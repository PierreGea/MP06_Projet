{
 "cells": [
  {
   "cell_type": "markdown",
   "metadata": {},
   "source": [
    "# Projet MP06"
   ]
  },
  {
   "cell_type": "markdown",
   "metadata": {},
   "source": [
    "## Code FreeFem+"
   ]
  },
  {
   "cell_type": "code",
   "execution_count": 1,
   "metadata": {},
   "outputs": [
    {
     "name": "stdout",
     "output_type": "stream",
     "text": [
      "\n",
      "//cas 1 : Convex\n",
      "\n",
      "real l=450;\n",
      "\n",
      "// Design variables\n",
      "\n",
      "// include the getARGV function to read values of arguments specified on command line\n",
      "include \"getARGV.idp\";\n",
      "\n",
      "// real h0=100;\n",
      "// real h1=50;\n",
      "// real r0=30;\n",
      "// real r1=20;\n",
      "\n",
      "real h0=getARGV(\"h0\",100);\n",
      "real h1=getARGV(\"h1\",50);\n",
      "real r0=getARGV(\"r0\",30);\n",
      "real r1=getARGV(\"r1\",20);\n",
      "\n",
      "//centre et rayon du premier cercle\n",
      "\n",
      "real xc1 = 0;\n",
      "real yc1 = ((h0*h0/4)-(l*l)-(h1*h1/4))/(h0-h1);\n",
      "real R = (h0/2)-yc1;\n",
      "// cout << \"yc1=\" << yc1 << endl;\n",
      "// cout << \"R=\" << R << \"\\n\";\n",
      "\n",
      "//centre du deuxiÃ¨me cercle \n",
      "real xc2 = 0;\n",
      "real yc2 = R-h0/2;\n",
      "// cout << \"yc2=\" << yc2 << endl;\n",
      "// cout << \"R=\" << R << \"\\n\";\n",
      "\n",
      "// calcul de l'angle des cercles (TrigonomÃ©trie)\n",
      "real alpha=asin(l/R);\n",
      "// cout << \"alpha=\" << alpha << endl;\n",
      "\n",
      "\n",
      "\n",
      "border a(t=-h0/2,h0/2){x=0;y=t;label=1;};\n",
      "border b(t=0,alpha){x=xc1+R*sin(t);y=yc1+R*cos(t);label= 2;};\n",
      "border c(t=h1/2,-h1/2){x=l ;y=t ;label=3 ;};\n",
      "border d(t=alpha,0){x=xc2+R*sin(t);y=yc2+R*cos(t+pi);label=4;};\n",
      "border e(t=0,2*pi){x=(l/5)+r0*cos(t);y=r0*sin(t);label=5;};\n",
      "border f(t=0,2*pi){x=(l-l/5)+r1*cos(t);y=r1*sin(t);label=6;};\n",
      "\n",
      "int n=-50;\n",
      "// plot(a(n)+b(3*n)+c(n)+d(3*n));\n",
      "\n",
      "mesh Th= buildmesh(a(n)+b(3*n)+c(n)+d(3*n)+e(n)+f(n));\n",
      "// plot(Th, ps=\"cas1.ps\");\n",
      "\n",
      "// RÃ©solution\n",
      "\n",
      "fespace Displacement(Th,P2);   // Bilinear elements for displacement\n",
      "fespace Stress(Th,P2);         // Bilinear elements for stress\n",
      "\n",
      "Displacement ux,uy,vx,vy;\n",
      "Stress sigmaxx,sigmayy,sigmaxy,sigmavm;\n",
      "\n",
      "\n",
      "real E = 210e3; //MPa\n",
      "real nu = 0.3;\n",
      "real mu= E/(2*(1+nu));\n",
      "real lambda = (E*nu)/((1+nu)*(1-2*nu));\n",
      "\n",
      "// Lame \"equivalent\" coef for plane stress model :\n",
      "real lambdaps = (2*lambda*mu)/(lambda + 2*mu);\n",
      "\n",
      "real force = -7;\n",
      "\n",
      "\n",
      "// Macro for divergent of displacement\n",
      "\n",
      "macro div(u,v) (dx(u)+dy(v)) //\n",
      "\n",
      "// Macro Epsolon\n",
      "\n",
      "macro epsilon(ux,uy) [dx(ux),dy(uy),(dy(ux)+dx(uy))/2]//\n",
      "\n",
      "\n",
      "// Macro for stress :\n",
      "\n",
      "macro sigma(ux,uy)\n",
      "    [\n",
      "        (lambdaps+2.*mu)*epsilon(ux,uy)[0] + lambdaps*epsilon(ux,uy)[1],\n",
      "        lambdaps*epsilon(ux,uy)[0] + (lambdaps+2.*mu)*epsilon(ux,uy)[1],\n",
      "        2.*mu*epsilon(ux,uy)[2]\n",
      "    ] // \n",
      "\n",
      "\n",
      "solve Probleme([ux,uy],[vx,vy])\n",
      "\t= int2d(Th)(2*mu*(epsilon(ux,uy)'*epsilon(vx,vy)) + lambda*div(ux,uy)*div(vx,vy))\n",
      "\t- int1d(Th,3)(force*vy) \n",
      "\t+ on(1,ux=0,uy=0);\n",
      "\n",
      "\n",
      "// plot([ux,uy], wait=true, ps=\"Problemesolve.eps\");\n",
      "\n",
      "// Nouveau Maillage\n",
      "// mesh th1 = movemesh(Th, [x+ux, y+uy]);\n",
      "// plot(th1,wait=1,ps=\"Problemesolvemesh.eps\");\n",
      "\n",
      "// Stresses :\n",
      "\n",
      "sigmaxx = sigma(ux,uy)[0];\n",
      "sigmayy = sigma(ux,uy)[1];\n",
      "sigmaxy = sigma(ux,uy)[2];\n",
      "\n",
      "//Von Mises stress\n",
      "\n",
      "sigmavm = sqrt(sigmaxx*sigmaxx - sigmaxx*sigmayy + sigmayy*sigmayy + 3*sigmaxy*sigmaxy);\n",
      "\n",
      "// Compute the surface of the meshed domain :\n",
      "\n",
      "real Area=int2d(Th)(1.);\n",
      "\n",
      "// The initial mesh :\n",
      "plot(Th,ps=\"convex-2D-mesh.eps\"); //Plots the mesh\n",
      "\n",
      "// The deformed mesh :\n",
      "\n",
      "real coef=10; \n",
      "mesh Thd = movemesh(Th, [x+ux*coef, y+uy*coef]);\n",
      "plot(Thd,ps=\"convex-2D-meshdef.eps\",cmm=\"Deformed mesh x\"+coef); \n",
      "\n",
      "// Plot von Mises stresses on deformed mesh :\n",
      "\n",
      "fespace StressDef(Thd,P2);\n",
      "StressDef sigmavmdef;\n",
      "sigmavmdef = sqrt(sigmaxx*sigmaxx - sigmaxx*sigmayy + sigmayy*sigmayy + 3*sigmaxy*sigmaxy);\n",
      "plot(sigmavmdef,ps=\"convex-2D-sigvm.eps\",fill=true,cmm=\"Sig_VM\");\n",
      "\n",
      "\n",
      "// Store abs value of displacement fied in vx,vy to extract proper maximal value (whatever the sign of displacement)\n",
      "\n",
      "vx = abs(ux);\n",
      "vy = abs(uy);\n",
      "\n",
      "real Umax = sqrt(vx[].max^2 + vy[].max^2); //Max. Displacement\n",
      "\n",
      "cout << \"\\nMax von Mises Stress \" << sigmavm[].max << endl;\n",
      "cout << \"Max displacement \" << Umax << endl;\n",
      "cout << \"Area             \" << Area << endl;\n"
     ]
    }
   ],
   "source": [
    "file = open('ProjetMP06_FreeFem.edp', 'r')\n",
    "file_content = file.read()\n",
    "print(file_content)"
   ]
  },
  {
   "cell_type": "markdown",
   "metadata": {},
   "source": [
    "## Utilisation de FreeFem+"
   ]
  },
  {
   "cell_type": "markdown",
   "metadata": {},
   "source": [
    "![](convex-21-mesh.eps)"
   ]
  },
  {
   "cell_type": "code",
   "execution_count": 2,
   "metadata": {},
   "outputs": [
    {
     "name": "stdout",
     "output_type": "stream",
     "text": [
      "\n",
      "Max von Mises Stress 186.746\n",
      "Max displacement 0.820682\n",
      "Area             33435.8\n"
     ]
    }
   ],
   "source": [
    "!FreeFem++ -nw -v 0 ProjetMP06_FreeFem.edp h0 100 h1 50 r0 30 r1 20"
   ]
  },
  {
   "cell_type": "markdown",
   "metadata": {},
   "source": [
    "## Resultats dans le notebook"
   ]
  },
  {
   "cell_type": "markdown",
   "metadata": {},
   "source": [
    "import matplotlib.pyplot as plt\n",
    "import matplotlib.image as mpimg\n",
    "# 'magic command' to modify the output format of the image 'svg' -> vectorized format (better quality)\n",
    "%config InlineBackend.figure_format = 'svg'\n",
    "# Read the image file :\n",
    "img1 = mpimg.imread('convex-2D-mesh.eps')\n",
    "img2 = mpimg.imread('convex-2D-meshdef.eps')\n",
    "img3 = mpimg.imread('convex-2D-sigvm.eps')\n",
    "# Create a figure (to specify the size)\n",
    "plt.figure(figsize=(15,5))\n",
    "# Display the image :\n",
    "plt.imshow(img1,interpolation='antialiased')\n",
    "plt.figure(figsize=(15,5))\n",
    "plt.imshow(img2,interpolation='antialiased')\n",
    "plt.figure(figsize=(15,5))\n",
    "plt.imshow(img3,interpolation='antialiased')"
   ]
  },
  {
   "cell_type": "markdown",
   "metadata": {},
   "source": [
    "## Utilisation de FreeFem++ dans le notebook"
   ]
  },
  {
   "cell_type": "code",
   "execution_count": 3,
   "metadata": {},
   "outputs": [
    {
     "data": {
      "text/plain": [
       "[<matplotlib.lines.Line2D at 0x211a931b3a0>]"
      ]
     },
     "execution_count": 3,
     "metadata": {},
     "output_type": "execute_result"
    },
    {
     "data": {
      "image/png": "[encoded data removed]",
      "text/plain": [
       "<Figure size 432x288 with 1 Axes>"
      ]
     },
     "metadata": {
      "needs_background": "light"
     },
     "output_type": "display_data"
    }
   ],
   "source": [
    "import run_freefem as rf        # Importation of module run_freefem, named 'rf'\n",
    "import numpy as np              # Numpy for array\n",
    "import matplotlib.pyplot as plt # pyplot from matplotlib to plot graphics.\n",
    "\n",
    "# 10 valeurs de h1 :\n",
    "h1_val = np.linspace(50,80,10)\n",
    "\n",
    "sigmax = []\n",
    "\n",
    "for h1 in h1_val:\n",
    "\n",
    "    input_value = {'h0':100,'h1':h1,'r0':30,'r1':20}\n",
    "    Out = rf.run_freefem('ProjetMP06_FreeFem.edp',input_value)\n",
    "\n",
    "    sigmax.append(Out[0][0])\n",
    "\n",
    "\n",
    "plt.plot(h1_val,sigmax,'r*-')"
   ]
  },
  {
   "cell_type": "markdown",
   "metadata": {},
   "source": [
    "## Optimisation"
   ]
  },
  {
   "cell_type": "code",
   "execution_count": null,
   "metadata": {},
   "outputs": [
    {
     "name": "stdout",
     "output_type": "stream",
     "text": [
      "| niter |f evals|CG iter|  obj func   |tr radius |   opt    |  c viol  | penalty  |barrier param|CG stop|\n",
      "|-------|-------|-------|-------------|----------|----------|----------|----------|-------------|-------|\n",
      "|   1   |   5   |   0   | +3.3258e+04 | 1.00e+00 | 5.15e-03 | 1.78e-01 | 1.00e+00 |  1.00e-01   |   0   |\n"
     ]
    },
    {
     "name": "stderr",
     "output_type": "stream",
     "text": [
      "C:\\Users\\Geapi\\anaconda3\\lib\\site-packages\\scipy\\optimize\\_hessian_update_strategy.py:182: UserWarning: delta_grad == 0.0. Check if the approximated function is linear. If the function is linear better results can be obtained by defining the Hessian as zero instead of using quasi-Newton approximations.\n",
      "  warn('delta_grad == 0.0. Check if the approximated '\n"
     ]
    },
    {
     "name": "stdout",
     "output_type": "stream",
     "text": [
      "|   2   |  10   |   1   | +3.3111e+04 | 5.60e+00 | 5.62e-03 | 2.03e-01 | 1.00e+00 |  1.00e-01   |   4   |\n",
      "|   3   |  15   |   2   | +3.3111e+04 | 6.42e+00 | 6.22e-03 | 2.03e-01 | 1.00e+00 |  1.00e-01   |   4   |\n",
      "|   4   |  20   |   3   | +3.3111e+04 | 6.42e+00 | 6.60e-03 | 2.03e-01 | 1.00e+00 |  1.00e-01   |   4   |\n",
      "|   5   |  25   |   4   | +3.3111e+04 | 6.42e+00 | 7.52e-03 | 2.03e-01 | 1.00e+00 |  1.00e-01   |   4   |\n",
      "|   6   |  30   |   5   | +3.3111e+04 | 6.42e+00 | 9.15e-03 | 2.03e-01 | 1.00e+00 |  1.00e-01   |   4   |\n",
      "|   7   |  35   |   6   | +3.3111e+04 | 6.42e+00 | 1.03e-02 | 2.03e-01 | 1.00e+00 |  1.00e-01   |   4   |\n",
      "|   8   |  40   |   7   | +3.3111e+04 | 6.42e+00 | 1.10e-02 | 2.03e-01 | 1.00e+00 |  1.00e-01   |   4   |\n",
      "|   9   |  45   |   8   | +3.3111e+04 | 6.42e+00 | 1.13e-02 | 2.03e-01 | 1.00e+00 |  1.00e-01   |   4   |\n",
      "|  10   |  50   |   9   | +3.3111e+04 | 6.42e+00 | 1.15e-02 | 2.03e-01 | 1.00e+00 |  1.00e-01   |   4   |\n",
      "|  11   |  55   |  10   | +3.3111e+04 | 6.42e+00 | 1.16e-02 | 2.03e-01 | 1.00e+00 |  1.00e-01   |   4   |\n",
      "|  12   |  60   |  11   | +3.3111e+04 | 6.42e+00 | 1.16e-02 | 2.03e-01 | 1.00e+00 |  1.00e-01   |   4   |\n",
      "|  13   |  65   |  12   | +3.3111e+04 | 6.42e+00 | 1.16e-02 | 2.03e-01 | 1.12e+00 |  1.00e-01   |   4   |\n",
      "|  14   |  70   |  13   | +3.3111e+04 | 6.42e+00 | 1.16e-02 | 2.03e-01 | 1.32e+00 |  1.00e-01   |   4   |\n",
      "|  15   |  75   |  14   | +3.3111e+04 | 6.42e+00 | 1.16e-02 | 2.03e-01 | 1.50e+00 |  1.00e-01   |   4   |\n",
      "|  16   |  80   |  15   | +3.3111e+04 | 6.42e+00 | 1.16e-02 | 2.03e-01 | 1.73e+00 |  1.00e-01   |   4   |\n",
      "|  17   |  85   |  16   | +3.3111e+04 | 6.42e+00 | 1.15e-02 | 2.03e-01 | 1.93e+00 |  1.00e-01   |   4   |\n",
      "|  18   |  90   |  17   | +3.3111e+04 | 6.42e+00 | 1.15e-02 | 2.03e-01 | 2.19e+00 |  1.00e-01   |   4   |\n",
      "|  19   |  95   |  18   | +3.3111e+04 | 6.42e+00 | 1.15e-02 | 2.03e-01 | 2.42e+00 |  1.00e-01   |   4   |\n",
      "|  20   |  100  |  19   | +3.3111e+04 | 6.42e+00 | 1.14e-02 | 2.03e-01 | 2.70e+00 |  1.00e-01   |   4   |\n",
      "|  21   |  105  |  20   | +3.3111e+04 | 6.42e+00 | 1.14e-02 | 2.03e-01 | 2.97e+00 |  1.00e-01   |   4   |\n",
      "|  22   |  110  |  21   | +3.3111e+04 | 6.42e+00 | 1.14e-02 | 2.03e-01 | 3.29e+00 |  1.00e-01   |   4   |\n",
      "|  23   |  115  |  22   | +3.3111e+04 | 6.42e+00 | 1.14e-02 | 2.03e-01 | 3.60e+00 |  1.00e-01   |   4   |\n",
      "|  24   |  120  |  23   | +3.3111e+04 | 6.42e+00 | 1.13e-02 | 2.03e-01 | 3.97e+00 |  1.00e-01   |   4   |\n",
      "|  25   |  125  |  24   | +3.3111e+04 | 6.42e+00 | 1.13e-02 | 2.03e-01 | 4.33e+00 |  1.00e-01   |   4   |\n",
      "|  26   |  130  |  25   | +3.3111e+04 | 6.42e+00 | 1.13e-02 | 2.03e-01 | 4.75e+00 |  1.00e-01   |   4   |\n",
      "|  27   |  135  |  26   | +3.3111e+04 | 6.42e+00 | 1.13e-02 | 2.03e-01 | 5.17e+00 |  1.00e-01   |   4   |\n",
      "|  28   |  140  |  27   | +3.3111e+04 | 6.42e+00 | 1.12e-02 | 2.03e-01 | 5.67e+00 |  1.00e-01   |   4   |\n",
      "|  29   |  145  |  28   | +3.3111e+04 | 6.42e+00 | 1.12e-02 | 2.03e-01 | 6.16e+00 |  1.00e-01   |   4   |\n",
      "|  30   |  150  |  29   | +3.3111e+04 | 6.42e+00 | 1.12e-02 | 2.03e-01 | 6.74e+00 |  1.00e-01   |   4   |\n",
      "|  31   |  155  |  30   | +3.3111e+04 | 6.42e+00 | 1.11e-02 | 2.03e-01 | 7.32e+00 |  1.00e-01   |   4   |\n",
      "|  32   |  160  |  31   | +3.3111e+04 | 6.42e+00 | 1.11e-02 | 2.03e-01 | 7.99e+00 |  1.00e-01   |   4   |\n",
      "|  33   |  165  |  32   | +3.3111e+04 | 6.42e+00 | 1.11e-02 | 2.03e-01 | 8.67e+00 |  1.00e-01   |   4   |\n",
      "|  34   |  170  |  33   | +3.3111e+04 | 6.42e+00 | 1.11e-02 | 2.03e-01 | 9.46e+00 |  1.00e-01   |   4   |\n",
      "|  35   |  175  |  34   | +3.3111e+04 | 6.42e+00 | 1.10e-02 | 2.03e-01 | 1.03e+01 |  1.00e-01   |   4   |\n",
      "|  36   |  180  |  35   | +3.3111e+04 | 6.42e+00 | 1.10e-02 | 2.03e-01 | 1.12e+01 |  1.00e-01   |   4   |\n",
      "|  37   |  185  |  36   | +3.3111e+04 | 6.42e+00 | 1.10e-02 | 2.03e-01 | 1.21e+01 |  1.00e-01   |   4   |\n",
      "|  38   |  190  |  37   | +3.3111e+04 | 6.42e+00 | 1.10e-02 | 2.03e-01 | 1.32e+01 |  1.00e-01   |   4   |\n",
      "|  39   |  195  |  38   | +3.3111e+04 | 6.42e+00 | 1.09e-02 | 2.03e-01 | 1.43e+01 |  1.00e-01   |   4   |\n",
      "|  40   |  200  |  39   | +3.3111e+04 | 6.42e+00 | 1.09e-02 | 2.03e-01 | 1.56e+01 |  1.00e-01   |   4   |\n",
      "|  41   |  205  |  40   | +3.3111e+04 | 6.42e+00 | 1.09e-02 | 2.03e-01 | 1.70e+01 |  1.00e-01   |   4   |\n",
      "|  42   |  210  |  41   | +3.3111e+04 | 6.42e+00 | 1.09e-02 | 2.03e-01 | 1.85e+01 |  1.00e-01   |   4   |\n",
      "|  43   |  215  |  42   | +3.3111e+04 | 6.42e+00 | 1.08e-02 | 2.03e-01 | 2.00e+01 |  1.00e-01   |   4   |\n",
      "|  44   |  220  |  43   | +3.3111e+04 | 6.42e+00 | 1.08e-02 | 2.03e-01 | 2.18e+01 |  1.00e-01   |   4   |\n",
      "|  45   |  225  |  44   | +3.3111e+04 | 6.42e+00 | 1.08e-02 | 2.03e-01 | 2.37e+01 |  1.00e-01   |   4   |\n",
      "|  46   |  230  |  45   | +3.3111e+04 | 6.42e+00 | 1.08e-02 | 2.03e-01 | 2.58e+01 |  1.00e-01   |   4   |\n",
      "|  47   |  235  |  46   | +3.3111e+04 | 6.42e+00 | 1.08e-02 | 2.03e-01 | 2.80e+01 |  1.00e-01   |   4   |\n",
      "|  48   |  240  |  47   | +3.3111e+04 | 6.42e+00 | 1.07e-02 | 2.03e-01 | 3.05e+01 |  1.00e-01   |   4   |\n",
      "|  49   |  245  |  48   | +3.3111e+04 | 6.42e+00 | 1.07e-02 | 2.03e-01 | 3.31e+01 |  1.00e-01   |   4   |\n",
      "|  50   |  250  |  49   | +3.3111e+04 | 6.42e+00 | 1.07e-02 | 2.03e-01 | 3.60e+01 |  1.00e-01   |   4   |\n",
      "|  51   |  255  |  50   | +3.3111e+04 | 6.42e+00 | 1.07e-02 | 2.03e-01 | 3.91e+01 |  1.00e-01   |   4   |\n"
     ]
    },
    {
     "name": "stderr",
     "output_type": "stream",
     "text": [
      "C:\\Users\\Geapi\\anaconda3\\lib\\site-packages\\scipy\\optimize\\_trustregion_constr\\projections.py:181: UserWarning: Singular Jacobian matrix. Using SVD decomposition to perform the factorizations.\n",
      "  warn('Singular Jacobian matrix. Using SVD decomposition to ' +\n"
     ]
    },
    {
     "name": "stdout",
     "output_type": "stream",
     "text": [
      "|  52   |  260  |  51   | +3.3111e+04 | 6.42e+00 | 1.06e-02 | 2.03e-01 | 4.26e+01 |  1.00e-01   |   4   |\n",
      "|  53   |  265  |  53   | +3.3111e+04 | 7.93e+00 | 1.28e-02 | 2.03e-01 | 4.26e+01 |  1.00e-01   |   4   |\n",
      "|  54   |  270  |  54   | +3.3111e+04 | 7.93e+00 | 1.28e-02 | 2.03e-01 | 6.10e+01 |  1.00e-01   |   4   |\n"
     ]
    }
   ],
   "source": [
    "# Importation des Bibliothèques\n",
    "import numpy as np\n",
    "import math as m\n",
    "\n",
    "import matplotlib.pyplot as plt\n",
    "import ipywidgets as widgets\n",
    "from ipywidgets import interact, interact_manual\n",
    "%config InlineBackend.figure_format = 'svg'\n",
    "\n",
    "import run_freefem as rf\n",
    "\n",
    "from scipy.optimize import minimize\n",
    "from scipy.optimize import NonlinearConstraint\n",
    "from scipy.optimize import Bounds\n",
    "\n",
    "# Valeures donnees\n",
    "Re = 350.0 #MPa\n",
    "U_max = 1.5 #mm\n",
    "l = 450 #mm\n",
    "\n",
    "# Objectif\n",
    "def Air_Obj(x):\n",
    "    \n",
    "    h0 = x[0]\n",
    "    h1 = x[1]\n",
    "    r0 = x[2]\n",
    "    r1 = x[3]\n",
    "    input_value = {'h0':h0,'h1':h1,'r0':r0,'r1':r1}\n",
    "    Out = rf.run_freefem('ProjetMP06_FreeFem.edp',input_value)\n",
    "    \n",
    "    Air = Out[0][2]\n",
    "    \n",
    "    return Air\n",
    "\n",
    "#Definitions des Contraintes\n",
    "def convex_cnt(x):\n",
    "    \n",
    "    h0 = x[0]\n",
    "    h1 = x[1]\n",
    "    r0 = x[2]\n",
    "    r1 = x[3]\n",
    "    input_value = {'h0':h0,'h1':h1,'r0':r0,'r1':r1}\n",
    "    Out = rf.run_freefem('ProjetMP06_FreeFem.edp',input_value)\n",
    "    \n",
    "    # Contraintre des rayons intérieurs\n",
    "\n",
    "    R = (h0/2)-((h0*h0/4)-(l*l)-(h1*h1/4))/(h0-h1)\n",
    "    \n",
    "    rx_max = l/5\n",
    "    r0y_max = ((h0*h0/4)-(l*l)-(h1*h1/4))/(h0-h1) - m.sqrt(-((l/5)**2)+(R**2))\n",
    "    r1y_max = ((h0*h0/4)-(l*l)-(h1*h1/4))/(h0-h1) - m.sqrt(-((4*l/5)**2)+(R**2))\n",
    "\n",
    "    # Contrainte maximale \n",
    "    Sigmax = Out[0][0]\n",
    "    \n",
    "    # Deplacement en bout de poutre :\n",
    "    D_max = Out[0][1]\n",
    "    \n",
    "    #Epaisseur minimal entre les deux cercles :\n",
    "    Epmin = 10\n",
    "    \n",
    "    # Contraintes :\n",
    "    Cnt = np.array([Sigmax/Re - 1,\n",
    "                    D_max/U_max - 1,\n",
    "                    r0/rx_max - 1,\n",
    "                    r0/(r0y_max) - 1,\n",
    "                    r1/rx_max - 1,\n",
    "                    r1/(r1y_max) - 1,\n",
    "                    h0/h1 - 1,\n",
    "                    (r0-r1)/Epmin - 1])\n",
    "    return  Cnt\n",
    "\n",
    "# Bornes de l'espace de recherche de la solution              \n",
    "convex_bounds = Bounds([30,20,10,5],\n",
    "                       [200,180,60,60])                    \n",
    "                    \n",
    "# Contraintes du problème d'optimisation :                    \n",
    "nonlinear_constraint = NonlinearConstraint(convex_cnt,-np.inf,0)\n",
    "                    \n",
    "# Fonction pour stocker les infos des itérations de l'algorithme\n",
    "# d'optimisation.                    \n",
    "def reporter(p,opt_res):\n",
    "\n",
    "    global ps,fs,cs\n",
    "    ps.append(p)\n",
    "    fs.append(opt_res.fun)\n",
    "    cs.append(opt_res.constr_violation)\n",
    "    return\n",
    "\n",
    "# Point de départ choisi arbritrairement.                   \n",
    "x0 = np.array([85,80,25,27.5])\n",
    "ps = [x0]\n",
    "fs = [0]\n",
    "cs = [0] \n",
    "       \n",
    "# Calculs d'optimisation\n",
    "# Méthode \"trust-constraint\"\n",
    "res = minimize(Air_Obj, x0,\n",
    "               method='trust-constr',\n",
    "               constraints=[nonlinear_constraint],\n",
    "               options={'disp':1,'verbose':3},\n",
    "               bounds=convex_bounds,\n",
    "               callback=reporter)\n",
    "\n",
    "# Affiche la solution :\n",
    "print('\\n\\nSolution optimale :\\nd0=%6.2fmm d1=%6.2fmm'%(res.x[0],res.x[1],res.x[2],res.x[3]))"
   ]
  },
  {
   "cell_type": "code",
   "execution_count": null,
   "metadata": {},
   "outputs": [],
   "source": []
  }
 ],
 "metadata": {
  "kernelspec": {
   "display_name": "Python 3",
   "language": "python",
   "name": "python3"
  },
  "language_info": {
   "codemirror_mode": {
    "name": "ipython",
    "version": 3
   },
   "file_extension": ".py",
   "mimetype": "text/x-python",
   "name": "python",
   "nbconvert_exporter": "python",
   "pygments_lexer": "ipython3",
   "version": "3.8.3"
  }
 },
 "nbformat": 4,
 "nbformat_minor": 4
}
